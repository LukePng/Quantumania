{
 "cells": [
  {
   "cell_type": "code",
   "execution_count": null,
   "metadata": {},
   "outputs": [],
   "source": [
    "#this is the delayed double slit experiment"
   ]
  },
  {
   "cell_type": "code",
   "execution_count": 1,
   "metadata": {},
   "outputs": [
    {
     "name": "stderr",
     "output_type": "stream",
     "text": [
      "C:\\Users\\lukef\\AppData\\Local\\Packages\\PythonSoftwareFoundation.Python.3.11_qbz5n2kfra8p0\\LocalCache\\local-packages\\Python311\\site-packages\\qiskit\\visualization\\circuit\\matplotlib.py:266: FutureWarning: The default matplotlib drawer scheme will be changed to \"iqp\" in a following release. To silence this warning, specify the current default explicitly as style=\"clifford\", or the new default as style=\"iqp\".\n",
      "  self._style, def_font_ratio = load_style(self._style)\n"
     ]
    },
    {
     "data": {
      "image/png": "[encoded data removed]",
      "text/plain": [
       "<Figure size 289.019x367.889 with 1 Axes>"
      ]
     },
     "execution_count": 1,
     "metadata": {},
     "output_type": "execute_result"
    }
   ],
   "source": [
    "from qiskit import QuantumCircuit, QuantumRegister, ClassicalRegister, Aer, transpile, assemble\n",
    "\n",
    "# Create quantum registers and classical registers\n",
    "par = QuantumRegister(1, 'Particle')  # Particle qubit\n",
    "temp = QuantumRegister(1, 'Temp')      # Temporary qubit\n",
    "scr = ClassicalRegister(1, 'screen')   # Classical register for screen measurement\n",
    "det = ClassicalRegister(1, 'detector') # Classical register for detector measurement\n",
    "\n",
    "# Create a quantum circuit\n",
    "qc = QuantumCircuit(par, temp, scr, det)\n",
    "\n",
    "det_present = False\n",
    "# If the detector is not present, measure Particle (P) directly\n",
    "if not det_present:\n",
    "    qc.measure(par, scr)\n",
    "    \n",
    "# If the detector is not present, manipulation is needed\n",
    "else:\n",
    "    qc.h(par)\n",
    "    qc.cx(par, temp)\n",
    "    qc.h(par)\n",
    "    qc.measure(temp, det)\n",
    "    qc.h(temp)\n",
    "    qc.cx(temp, par)\n",
    "    qc.measure(par, scr)\n",
    "# Draw the circuit\n",
    "qc.draw('mpl')\n"
   ]
  },
  {
   "cell_type": "code",
   "execution_count": 2,
   "metadata": {},
   "outputs": [
    {
     "name": "stdout",
     "output_type": "stream",
     "text": [
      "P number\n",
      "0 0 1024\n",
      "Measurement results: {'0 0': 1024}\n"
     ]
    },
    {
     "name": "stderr",
     "output_type": "stream",
     "text": [
      "C:\\Users\\lukef\\AppData\\Local\\Temp\\ipykernel_23700\\282970953.py:7: DeprecationWarning: Using a qobj for run() is deprecated as of qiskit-aer 0.9.0 and will be removed no sooner than 3 months from that release date. Transpiled circuits should now be passed directly using `backend.run(circuits, **run_options).\n",
      "  result = backend.run(assemble(qc_compiled)).result()\n"
     ]
    }
   ],
   "source": [
    "\n",
    "backend = Aer.get_backend('qasm_simulator')\n",
    "\n",
    "# Compile the circuit\n",
    "qc_compiled = transpile(qc, backend)\n",
    "\n",
    "# Run the simulation\n",
    "result = backend.run(assemble(qc_compiled)).result()\n",
    "\n",
    "# Display the results\n",
    "counts = result.get_counts(qc)\n",
    "if det_present:\n",
    "    print('P T number')\n",
    "else:\n",
    "    print('P number')\n",
    "for keys, values in counts.items():\n",
    "    print('{} {}'.format(keys, values))\n",
    "print(\"Measurement results:\", counts)\n"
   ]
  }
 ],
 "metadata": {
  "kernelspec": {
   "display_name": "Python 3",
   "language": "python",
   "name": "python3"
  },
  "language_info": {
   "codemirror_mode": {
    "name": "ipython",
    "version": 3
   },
   "file_extension": ".py",
   "mimetype": "text/x-python",
   "name": "python",
   "nbconvert_exporter": "python",
   "pygments_lexer": "ipython3",
   "version": "3.11.8"
  }
 },
 "nbformat": 4,
 "nbformat_minor": 2
}
